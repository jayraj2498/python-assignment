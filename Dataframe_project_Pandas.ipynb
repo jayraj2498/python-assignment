{
 "cells": [
  {
   "cell_type": "code",
   "execution_count": 1,
   "metadata": {},
   "outputs": [
    {
     "name": "stdout",
     "output_type": "stream",
     "text": [
      "Give me the list of top 5 batsman \n"
     ]
    },
    {
     "data": {
      "text/html": [
       "<div>\n",
       "<style scoped>\n",
       "    .dataframe tbody tr th:only-of-type {\n",
       "        vertical-align: middle;\n",
       "    }\n",
       "\n",
       "    .dataframe tbody tr th {\n",
       "        vertical-align: top;\n",
       "    }\n",
       "\n",
       "    .dataframe thead th {\n",
       "        text-align: right;\n",
       "    }\n",
       "</style>\n",
       "<table border=\"1\" class=\"dataframe\">\n",
       "  <thead>\n",
       "    <tr style=\"text-align: right;\">\n",
       "      <th></th>\n",
       "      <th>Player name</th>\n",
       "      <th>runs</th>\n",
       "      <th>Average</th>\n",
       "      <th>Strike Rate</th>\n",
       "      <th>Country</th>\n",
       "    </tr>\n",
       "  </thead>\n",
       "  <tbody>\n",
       "    <tr>\n",
       "      <th>0</th>\n",
       "      <td>Virat Kholi</td>\n",
       "      <td>12471</td>\n",
       "      <td>57.5</td>\n",
       "      <td>93.1</td>\n",
       "      <td>India</td>\n",
       "    </tr>\n",
       "    <tr>\n",
       "      <th>1</th>\n",
       "      <td>Rohit Sharma</td>\n",
       "      <td>9454</td>\n",
       "      <td>48.73</td>\n",
       "      <td>89.42</td>\n",
       "      <td>India</td>\n",
       "    </tr>\n",
       "    <tr>\n",
       "      <th>2</th>\n",
       "      <td>David Warner</td>\n",
       "      <td>6907</td>\n",
       "      <td>44.83</td>\n",
       "      <td>95.26</td>\n",
       "      <td>Australia</td>\n",
       "    </tr>\n",
       "    <tr>\n",
       "      <th>3</th>\n",
       "      <td>Joe Root</td>\n",
       "      <td>6207</td>\n",
       "      <td>50.6</td>\n",
       "      <td>86.93</td>\n",
       "      <td>England</td>\n",
       "    </tr>\n",
       "    <tr>\n",
       "      <th>4</th>\n",
       "      <td>Decock</td>\n",
       "      <td>5883</td>\n",
       "      <td>45.57</td>\n",
       "      <td>96.03</td>\n",
       "      <td>South Africa</td>\n",
       "    </tr>\n",
       "  </tbody>\n",
       "</table>\n",
       "</div>"
      ],
      "text/plain": [
       "    Player name   runs Average Strike Rate       Country\n",
       "0   Virat Kholi  12471    57.5        93.1         India\n",
       "1  Rohit Sharma   9454   48.73       89.42         India\n",
       "2  David Warner   6907   44.83       95.26     Australia\n",
       "3      Joe Root   6207    50.6       86.93       England\n",
       "4        Decock   5883   45.57       96.03  South Africa"
      ]
     },
     "execution_count": 1,
     "metadata": {},
     "output_type": "execute_result"
    }
   ],
   "source": [
    "import pandas as pd\n",
    "player=int(input(\"How many top batsman analysis do u want:\"))\n",
    "print(f\"Give me the list of top {player} batsman \")\n",
    "\n",
    "n=player\n",
    "p_name=[]\n",
    "p_runs=[]\n",
    "p_avg=[]\n",
    "p_str=[]\n",
    "p_coun=[]\n",
    "\n",
    "for i in range(n):\n",
    "    \n",
    "    pn=input(\"enter the player name: \")\n",
    "    pr=input(\"enter the player runs: \")\n",
    "    pa=input(\"enter the player average: \")\n",
    "    ps=input(\"enter the player strike rate: \")\n",
    "    pc=input(\"enter the player country: \") \n",
    "\n",
    "    p_name.append(pn)\n",
    "    p_runs.append(pr)\n",
    "    p_avg.append(pa)\n",
    "    p_str.append(ps)\n",
    "    p_coun.append(pc) \n",
    "    \n",
    "    \n",
    "    \n",
    "data={\"Player name\":p_name,'runs':p_runs,'Average':p_avg,'Strike Rate':p_str,'Country':p_coun}\n",
    "show=pd.DataFrame(data)\n",
    "show\n",
    "\n",
    "\n"
   ]
  },
  {
   "cell_type": "code",
   "execution_count": 2,
   "metadata": {},
   "outputs": [],
   "source": [
    "# to save the file in csv \n",
    " \n",
    "show.to_csv(\"top 5 batsman performer list.csv\")"
   ]
  }
 ],
 "metadata": {
  "kernelspec": {
   "display_name": "Python 3",
   "language": "python",
   "name": "python3"
  },
  "language_info": {
   "codemirror_mode": {
    "name": "ipython",
    "version": 3
   },
   "file_extension": ".py",
   "mimetype": "text/x-python",
   "name": "python",
   "nbconvert_exporter": "python",
   "pygments_lexer": "ipython3",
   "version": "3.10.6 (tags/v3.10.6:9c7b4bd, Aug  1 2022, 21:53:49) [MSC v.1932 64 bit (AMD64)]"
  },
  "orig_nbformat": 4,
  "vscode": {
   "interpreter": {
    "hash": "a912f55fab05c87cb1cd04c2481425fcfa639c2a43819b922954b685e4a5e63c"
   }
  }
 },
 "nbformat": 4,
 "nbformat_minor": 2
}
