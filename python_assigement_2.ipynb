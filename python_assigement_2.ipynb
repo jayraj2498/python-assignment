{
 "cells": [
  {
   "cell_type": "markdown",
   "metadata": {},
   "source": [
    "### CONDITIONAL STATEMENTS"
   ]
  },
  {
   "cell_type": "markdown",
   "metadata": {},
   "source": [
    "Q1: Write a python program to check whether the given number is even or odd"
   ]
  },
  {
   "cell_type": "code",
   "execution_count": null,
   "metadata": {},
   "outputs": [],
   "source": [
    "no=int(input(\"enter the no\"))\n",
    "print(f\"your input is:{no}\")\n",
    "if no%2==0:\n",
    "    print(f\"{no} is a even number \") \n",
    "elif no%2!=0:\n",
    "    print(f\"{no} is a odd  number \")\n"
   ]
  },
  {
   "cell_type": "markdown",
   "metadata": {},
   "source": [
    "Q2: Write a Python program to guess a number between 1 to 9 using elif\n"
   ]
  },
  {
   "cell_type": "code",
   "execution_count": null,
   "metadata": {},
   "outputs": [],
   "source": [
    "no=int(input(\"enter a no \"))\n",
    "print(f\"your input is:{no}\")\n",
    "if no>9:\n",
    "    print(f\"{no} is greater than 9 \")\n",
    "elif no<=9 and no>=1:\n",
    "    print(f\"{no} is in between 1 to 9 \")\n",
    "else:\n",
    "    print(f\"{no} is invalid no \")"
   ]
  },
  {
   "cell_type": "markdown",
   "metadata": {},
   "source": [
    "Q3: Write a Python program to count the number of even and odd numbers from a series of numbers"
   ]
  },
  {
   "cell_type": "code",
   "execution_count": null,
   "metadata": {},
   "outputs": [],
   "source": [
    "no_series = [1, 21, 4, 45, 66, 93, 1001]\n",
    "  \n",
    "even_add=0\n",
    "odd_add= 0\n",
    "  \n",
    "for no in no_series:\n",
    "      \n",
    "    if no % 2 == 0:\n",
    "        print(f\"{no}: is a even no count:1\") \n",
    "        even_add =even_add+1\n",
    "  \n",
    "    else:\n",
    "        print(f\"{no}: is a odd no count:1\") \n",
    "        odd_add=odd_add+1\n",
    "          \n",
    "print(f\"In a number series even no count is:{even_add}\" )\n",
    "print(f\"In a number series odd no count is:{odd_add}\")"
   ]
  },
  {
   "cell_type": "markdown",
   "metadata": {},
   "source": [
    "Q4: Write an if statement that asks for the user's name via the input() function. If the name is \"Bond\" make\n",
    "it print \"Welcome on bond 007.\" Otherwise, make it print \"Good morning NAME\". (Replace Name with\n",
    "user's name)"
   ]
  },
  {
   "cell_type": "code",
   "execution_count": null,
   "metadata": {},
   "outputs": [],
   "source": [
    "name=input(\"enter your name\")\n",
    "if name==\"Bond\":\n",
    "    print(\"Welcome on bond 007.\")\n",
    "else:\n",
    "    print(f\"Good morning {name}\")"
   ]
  },
  {
   "cell_type": "markdown",
   "metadata": {},
   "source": [
    "Q5: Write a python program that accepts the 4 inputs from the user save them to a variable and Find the\n",
    "largest number using and keyword"
   ]
  },
  {
   "cell_type": "code",
   "execution_count": null,
   "metadata": {},
   "outputs": [],
   "source": [
    "line = input(\"Enter 4 element separated by ',' \")\n",
    "print(f\"your 4 input is:{line} \")\n",
    "list  = line.split(\",\") \n",
    "list1=list\n",
    "print(f\"largest number is:{max(list1)}\")"
   ]
  },
  {
   "cell_type": "markdown",
   "metadata": {},
   "source": [
    "Q6:Convert the below Englist statement into code : values should be accepted from user If you got more\n",
    "than 50% your_marks in Engsics you will get new cycle"
   ]
  },
  {
   "cell_type": "code",
   "execution_count": null,
   "metadata": {},
   "outputs": [],
   "source": [
    "Phy_your_marks=int(input(\"Enter your_marks of the physics subject your_marks : \"))\n",
    "if Phy_your_marks >50:\n",
    "    print(f\"your physics your_marks is:{Phy_your_marks}\\ncongratulation you got new cycle \")\n",
    "else:\n",
    "    print(f\"you your_marks in Phylish:{Phy_your_marks}, you will not get pocket money. \")"
   ]
  },
  {
   "cell_type": "markdown",
   "metadata": {},
   "source": [
    "Q7: Convert the below Phylist statement into code : values should be accepted from user If you got more\n",
    "than 60% your_marks in maths then you will get new cycle else no pocket money"
   ]
  },
  {
   "cell_type": "code",
   "execution_count": null,
   "metadata": {},
   "outputs": [],
   "source": [
    "Eng_your_marks=int(input(\"Enter English subject your_marks: \"))\n",
    "if Eng_your_marks >60:\n",
    "    print(f\"your English your_marks is:{Eng_your_marks}\\ncongratulation you got new cycle \")\n",
    "else:\n",
    "    print(f\"you your_marks in English:{Eng_your_marks},\\nyou will not get pocket money. \")\n"
   ]
  },
  {
   "cell_type": "code",
   "execution_count": null,
   "metadata": {},
   "outputs": [],
   "source": [
    "#Q8: Convert the below Phylist statement into code : values should be accepted from user If you got more\n",
    "#than 80% your_marks in maths, and more than or equal to 70% your_marks in science and more than or equal to\n",
    "#90% your_marks in Phylish then you will get an ipad [NOTE: MAKE SURE THERE SHOULD BE ONE else\n",
    "#Statement with each if statement with proper indentation]\n",
    "\n",
    "\n",
    "\n",
    "Math_your_marks=int(input(\"Enter Math subject your_marks: \"))\n",
    "Science_your_marks=int(input(\"Enter Science subject your_marks: \"))\n",
    "Physic_your_marks=int(input(\"Enter physics subject your_marks: \"))\n",
    "\n",
    "if Math_your_marks>80 and Science_your_marks>=70 and Physic_your_marks>=90 :\n",
    "    print(f\"your math marks is:{Math_your_marks}\\nyour Science marks is:{Science_your_marks}\\nyour Physic marks is:{Physic_your_marks}\")\n",
    "    print(f\"Congratulation you got an ipad\")\n",
    "else:\n",
    "    print(f\"your math marks is:{Math_your_marks}\\nyour science marks is:{Science_your_marks}\\nyour physic marks is:{Physic_your_marks}\")\n",
    "    print(f\"sry,your  marks is low you will not get an ipad\")"
   ]
  },
  {
   "cell_type": "markdown",
   "metadata": {},
   "source": [
    "Q1: using for loop and range()\n",
    "1) Print 0-10\n",
    "2) Print hello world 5 times\n",
    "3) Print 2-20\n",
    "4) Print 5-55 in steps of 10"
   ]
  },
  {
   "cell_type": "code",
   "execution_count": null,
   "metadata": {},
   "outputs": [],
   "source": [
    "for i in range(0,11):\n",
    "    print(i)"
   ]
  },
  {
   "cell_type": "code",
   "execution_count": 1,
   "metadata": {},
   "outputs": [
    {
     "name": "stdout",
     "output_type": "stream",
     "text": [
      "Hello world\n",
      "Hello world\n",
      "Hello world\n",
      "Hello world\n",
      "Hello world\n"
     ]
    }
   ],
   "source": [
    "for i in range(5):\n",
    "    print(\"Hello world\")"
   ]
  },
  {
   "cell_type": "code",
   "execution_count": null,
   "metadata": {},
   "outputs": [],
   "source": [
    "for i in range(2,21):\n",
    "    print(i)"
   ]
  },
  {
   "cell_type": "code",
   "execution_count": null,
   "metadata": {},
   "outputs": [],
   "source": [
    "for i in range(5,56,10):\n",
    "    print(i)"
   ]
  },
  {
   "cell_type": "markdown",
   "metadata": {},
   "source": [
    "Q2:Create one list and iterate over the list using for,len and range"
   ]
  },
  {
   "cell_type": "code",
   "execution_count": null,
   "metadata": {},
   "outputs": [],
   "source": [
    "list_no = [12, 23, 34, 56, 67]\n",
    "   \n",
    "length = len(list_no)\n",
    "   \n",
    "for i in range(length):\n",
    "    print(list_no[i])"
   ]
  },
  {
   "cell_type": "markdown",
   "metadata": {},
   "source": [
    "Q3:Create a list fruits store apple,banana,grapes,oranges using for loop iterate and when it reaches to a\n",
    "banana if shoud print banana is available"
   ]
  },
  {
   "cell_type": "code",
   "execution_count": null,
   "metadata": {},
   "outputs": [],
   "source": [
    "list_fru= [\"apple\",\"banana\",\"grapes\",\"oranges\"]\n",
    "for fruits in list_fru:\n",
    "    if fruits==\"banana\":\n",
    "        print(f\"{fruits} is available\")"
   ]
  },
  {
   "cell_type": "code",
   "execution_count": 7,
   "metadata": {},
   "outputs": [
    {
     "name": "stdout",
     "output_type": "stream",
     "text": [
      "your history marks is:89\n",
      "your science marks is:87\n",
      "your math marks is:85\n",
      "your physics marks is:96\n",
      "your civil marks is:84\n",
      "========================================\n",
      "your percentage is:88.2%\n",
      "=========================================\n",
      "you got more than 60% marks\n",
      "salute you \n",
      "salute you \n",
      "salute you \n",
      "salute you \n",
      "salute you \n",
      "\n"
     ]
    }
   ],
   "source": [
    "#Q4: Convert the below english statement into code : values should be accepted from user If you got more\n",
    "#than 60% your_marks overall I will give you salute five times(means we should print salute five times)else I will\n",
    "#punish you five times(means we should print punishment five times)\n",
    "\n",
    "your_subject = [\"history\", \"science\", \"math\", \"physics\", \"civil\"] \n",
    "total = 0 \n",
    "your_marks = {}\n",
    " \n",
    "for subject in your_subject: \n",
    "    your_marks[subject] = input(\"Enter \" + subject + \" marks : \")  \n",
    "    print(f'''your {subject} marks is:{your_marks[subject]}''')\n",
    " \n",
    "for final_marks in your_marks.values(): \n",
    "    total += int(final_marks) \n",
    " \n",
    "percent = (total*100) / 500  \n",
    "print(\"========================================\")\n",
    "print(f\"your percentage is:{percent}%\")\n",
    "print(\"=========================================\")\n",
    " \n",
    "if percent>= 60: \n",
    "    print(f\"you got more than 60% marks\")\n",
    "    print(\"salute you \\n\" *5)\n",
    "else:\n",
    "    print(f\"you got less than 60% marks\")\n",
    "    print(\"i will panish you \\n\"*5)"
   ]
  },
  {
   "cell_type": "code",
   "execution_count": 11,
   "metadata": {},
   "outputs": [
    {
     "name": "stdout",
     "output_type": "stream",
     "text": [
      "your math marks is:98\n",
      "your science marks is:95\n",
      "your english marks is:98\n",
      "........................................\n",
      "I want you to salute me 5 times \n",
      "........................................\n",
      "salute\n",
      "salute\n",
      "salute\n",
      "salute\n",
      "salute\n"
     ]
    }
   ],
   "source": [
    "#Q5: Convert the below englist statement into code : values should be accepted from user If you got more\n",
    "#than 80% marks in maths, and more than or equal to 70% marks in science and more than or equal to\n",
    "#90% marks in English then I will salute you as many times you want(means program should print\n",
    "#whatever time user will say)\n",
    "#[NOTE: MAKE SURE THERE SHOULD BE ONE else Statement with each if statement with proper\n",
    "#indentation]\n",
    "\n",
    "Math_your_marks=int(input(\"Enter Math subject your_marks: \"))\n",
    "Science_your_marks=int(input(\"Enter Science subject your_marks: \"))\n",
    "English_your_marks=int(input(\"Enter physics subject your_marks: \"))\n",
    "\n",
    "if Math_your_marks>80 and Science_your_marks>=70 and English_your_marks>=90 :\n",
    "    print(f\"your math marks is:{Math_your_marks}\\nyour science marks is:{Science_your_marks}\\nyour english marks is:{English_your_marks}\")\n",
    "    salute=int(input(\"Enter how many time you want to salute\")) \n",
    "    print(\"........................................\")\n",
    "    print(f\"I want you to salute me {salute} times \")\n",
    "    print(\"........................................\")\n",
    "    for i in range(0,salute):\n",
    "        print(\"salute\")\n",
    "    \n",
    "    \n",
    "else:\n",
    "    print(f\"your math your_marks:{Math_your_marks}\\nyour Science your_marks:{Science_your_marks}\\nyour Physic your_marks:{English_your_marks}\")\n",
    "    print(\"sry,your your marks is low you will not 'salute' you\")\n",
    "    "
   ]
  },
  {
   "cell_type": "markdown",
   "metadata": {},
   "source": [
    "Q6: Using for loop and range function print 0 – 100 but break the loop if it reaches 12"
   ]
  },
  {
   "cell_type": "code",
   "execution_count": null,
   "metadata": {},
   "outputs": [],
   "source": [
    "for i in range(0,100):\n",
    "    if i==12:\n",
    "        break\n",
    "    print(i)"
   ]
  },
  {
   "cell_type": "markdown",
   "metadata": {},
   "source": [
    "Q7: Using for loop and range function print 0 – 10 but it shouldn’t print 7"
   ]
  },
  {
   "cell_type": "code",
   "execution_count": null,
   "metadata": {},
   "outputs": [],
   "source": [
    "for i in range(0,10):\n",
    "    if i==7:\n",
    "        continue\n",
    "    print(i)"
   ]
  },
  {
   "cell_type": "markdown",
   "metadata": {},
   "source": [
    "Q8: Create a list of names and iterate over them and print the index and item present at that particular\n",
    "index"
   ]
  },
  {
   "cell_type": "code",
   "execution_count": 3,
   "metadata": {},
   "outputs": [
    {
     "name": "stdout",
     "output_type": "stream",
     "text": [
      "index no:0, item name:history\n",
      "index no:1, item name:science\n",
      "index no:2, item name:math\n",
      "index no:3, item name:physics\n",
      "index no:4, item name:civil\n"
     ]
    }
   ],
   "source": [
    "   \n",
    "costs =[\"history\", \"science\", \"math\", \"physics\", \"civil\"] \n",
    "\n",
    "total_sum=0\n",
    "N=len(costs)\n",
    "\n",
    "for i in range(0,N):\n",
    "    print(f\"index no:{i}, item name:{costs[i]}\")"
   ]
  },
  {
   "cell_type": "markdown",
   "metadata": {},
   "source": [
    "Q9 : From a range of numbers iterate over that range print which one is even and which one is odd "
   ]
  },
  {
   "cell_type": "code",
   "execution_count": null,
   "metadata": {},
   "outputs": [],
   "source": [
    "for i in range(1,15):\n",
    "    if i%2==0:\n",
    "        print(f\"{i}:is even number \")\n",
    "    else:\n",
    "        print(f\"{i}:is odd no\")"
   ]
  },
  {
   "cell_type": "markdown",
   "metadata": {},
   "source": [
    "Q1: Create a function and the functionality should be it should print “Hello caller”\n",
    "Call this function multiple times"
   ]
  },
  {
   "cell_type": "code",
   "execution_count": null,
   "metadata": {},
   "outputs": [],
   "source": [
    "def func():\n",
    "    print(\"hello caller\")  \n",
    "    \n",
    "func()\n",
    "func()\n",
    "func()\n",
    "func()"
   ]
  },
  {
   "cell_type": "markdown",
   "metadata": {},
   "source": [
    "Q2: Create a function which accept one variable(parameter) and print its value"
   ]
  },
  {
   "cell_type": "code",
   "execution_count": null,
   "metadata": {},
   "outputs": [],
   "source": [
    "def morning(name):                                      \n",
    "    print(\"good morning \"+name)\n",
    "   \n",
    "morning(\"jayraj\")  "
   ]
  },
  {
   "cell_type": "markdown",
   "metadata": {},
   "source": [
    "Q3: Create a function which accepts one variable and checks whether its even or odd\n"
   ]
  },
  {
   "cell_type": "code",
   "execution_count": null,
   "metadata": {},
   "outputs": [],
   "source": [
    "def func(var1):  \n",
    "    if var1%2==0:\n",
    "        print(\"no is odd \")\n",
    "    else:\n",
    "        print(\"no is even\")                      \n",
    "    \n",
    "   \n",
    "func(56)    "
   ]
  },
  {
   "cell_type": "markdown",
   "metadata": {},
   "source": [
    "Q4: Create a function which accept two values and prints which one is larger value"
   ]
  },
  {
   "cell_type": "code",
   "execution_count": null,
   "metadata": {},
   "outputs": [],
   "source": [
    "def max_no(a, b): \n",
    "    if a>b:\n",
    "        return a\n",
    "    else:\n",
    "        return b\n",
    "     \n",
    "first_no=78\n",
    "second_no=98\n",
    "A=max_no(first_no,second_no)\n",
    "print(f\"1st no={first_no} 2nd no={second_no}\\nlargest no is:{A}\")"
   ]
  },
  {
   "cell_type": "markdown",
   "metadata": {},
   "source": [
    "Q5: Create a function which accept two values and prints which one is smaller value"
   ]
  },
  {
   "cell_type": "code",
   "execution_count": null,
   "metadata": {},
   "outputs": [],
   "source": [
    "def max_no(a, b): \n",
    "    if a<b:\n",
    "        return a\n",
    "    else:\n",
    "        return b\n",
    "     \n",
    "first_no=78\n",
    "second_no=98\n",
    "A=max_no(first_no,second_no)\n",
    "print(f\"1st no={first_no} 2nd no={second_no}\\nsmallest value is:{A}\")"
   ]
  },
  {
   "cell_type": "markdown",
   "metadata": {},
   "source": [
    "Q6: Create a function which can accept any number of parameters"
   ]
  },
  {
   "cell_type": "code",
   "execution_count": null,
   "metadata": {},
   "outputs": [],
   "source": [
    "def mob(*arg):\n",
    "    print(arg) \n",
    "\n",
    "mob(\"samsung\",\"motorola\",\"apple\",\"mi\",\"nokia\",\"realme\",\"vivo\",\"opppo\") "
   ]
  },
  {
   "cell_type": "markdown",
   "metadata": {},
   "source": [
    "Q7: Create a function which will accept a list and functionality of the function should be it should iterate\n",
    "over the list and print all the elements with there respective indexes\n",
    "Q"
   ]
  },
  {
   "cell_type": "code",
   "execution_count": 11,
   "metadata": {},
   "outputs": [
    {
     "name": "stdout",
     "output_type": "stream",
     "text": [
      " index no is:0 and element is:samsung\n",
      " index no is:1 and element is:motorola\n",
      " index no is:2 and element is:apple\n",
      " index no is:3 and element is:mi\n",
      " index no is:4 and element is:nokia\n"
     ]
    }
   ],
   "source": [
    "def func(list1):\n",
    "\n",
    "\tfor ixno,element in enumerate(list1):\n",
    "\n",
    "\t\tprint(f\" index no is:{ixno} and element is:{element}\")\n",
    "  \n",
    "\n",
    "  \n",
    "list1=[\"samsung\",\"motorola\",\"apple\",\"mi\",\"nokia\"]\n",
    "func(list1)"
   ]
  },
  {
   "cell_type": "markdown",
   "metadata": {},
   "source": [
    "Q8: Create a function which will have default parameters and doesn’t give error when we don’t pass the\n",
    "parameters "
   ]
  },
  {
   "cell_type": "code",
   "execution_count": null,
   "metadata": {},
   "outputs": [],
   "source": [
    "def fav_son(game=\"football\"):\n",
    "    print(f\" There are many games but everyones favorites  is \"+game)\n",
    "    \n",
    "fav_son(\"criecket\")    \n",
    "fav_son(\"hockey\")   \n",
    "fav_son()                          #<-- default parameter "
   ]
  },
  {
   "cell_type": "markdown",
   "metadata": {},
   "source": [
    "Q9: Create a function which can find the largest item inside the list"
   ]
  },
  {
   "cell_type": "code",
   "execution_count": 4,
   "metadata": {},
   "outputs": [
    {
     "name": "stdout",
     "output_type": "stream",
     "text": [
      "max no is 89\n"
     ]
    }
   ],
   "source": [
    "def func(list1):\n",
    "    A=(max(list1))\n",
    "    return A\n",
    "\n",
    "\n",
    "list1=[12,34,56,76,89,34] \n",
    "\n",
    "max_no=func(list1) \n",
    "print(f\"max no is {max_no}\")"
   ]
  },
  {
   "cell_type": "markdown",
   "metadata": {},
   "source": [
    "Q10: Create a function which a print all even and odd number over a specified range"
   ]
  },
  {
   "cell_type": "code",
   "execution_count": 5,
   "metadata": {},
   "outputs": [
    {
     "name": "stdout",
     "output_type": "stream",
     "text": [
      "1 is odd \n",
      "2 is even no\n",
      "3 is odd \n",
      "4 is even no\n",
      "5 is odd \n",
      "6 is even no\n",
      "7 is odd \n",
      "8 is even no\n",
      "9 is odd \n",
      "10 is even no\n"
     ]
    }
   ],
   "source": [
    "def func(arg):\n",
    "    \n",
    "    for i in arg:\n",
    "         if i%2==0:\n",
    "        \n",
    "             print(f\"{i} is even no\")\n",
    "          \n",
    "          \n",
    "         else:\n",
    "        \n",
    "             print(f\"{i} is odd \")\n",
    "           \n",
    "\n",
    "\n",
    "ans=range(1,11)     \n",
    "func(ans)  \n"
   ]
  }
 ],
 "metadata": {
  "kernelspec": {
   "display_name": "Python 3.10.6 64-bit",
   "language": "python",
   "name": "python3"
  },
  "language_info": {
   "codemirror_mode": {
    "name": "ipython",
    "version": 3
   },
   "file_extension": ".py",
   "mimetype": "text/x-python",
   "name": "python",
   "nbconvert_exporter": "python",
   "pygments_lexer": "ipython3",
   "version": "3.10.6"
  },
  "orig_nbformat": 4,
  "vscode": {
   "interpreter": {
    "hash": "a912f55fab05c87cb1cd04c2481425fcfa639c2a43819b922954b685e4a5e63c"
   }
  }
 },
 "nbformat": 4,
 "nbformat_minor": 2
}
