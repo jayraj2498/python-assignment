{
 "cells": [
  {
   "cell_type": "markdown",
   "metadata": {},
   "source": [
    "OBJECT ORIENTED PROGRAMMING EXERCISE "
   ]
  },
  {
   "cell_type": "markdown",
   "metadata": {},
   "source": [
    "OOP Exercise 1: Create a Vehicle class with max_speed and mileage As Data Members "
   ]
  },
  {
   "cell_type": "code",
   "execution_count": 2,
   "metadata": {},
   "outputs": [],
   "source": [
    "class vehicle:\n",
    "    def __init__(self, max_speed, mileage):\n",
    "        self.max_speed = max_speed\n",
    "        self.mileage = mileage\n",
    "        "
   ]
  },
  {
   "cell_type": "markdown",
   "metadata": {},
   "source": [
    "OOP Exercise 2: Create a Vehicle class without any variables and method "
   ]
  },
  {
   "cell_type": "code",
   "execution_count": null,
   "metadata": {},
   "outputs": [],
   "source": [
    "class vehicle:\n",
    "    pass "
   ]
  },
  {
   "cell_type": "markdown",
   "metadata": {},
   "source": [
    "OOP Exercise 3: Create a child class Bus that will inherit all of the variables and methods of the Vehicle class "
   ]
  },
  {
   "cell_type": "code",
   "execution_count": 15,
   "metadata": {},
   "outputs": [
    {
     "name": "stdout",
     "output_type": "stream",
     "text": [
      "you are inside child class\n",
      "you are inside the parent class\n",
      "I have a Mercedes bus which max speed is 200 and mileage is 12\n"
     ]
    }
   ],
   "source": [
    "class vehicle:\n",
    "    def __init__(self,name,max_speed, mileage):\n",
    "        print(\"you are inside the parent class\")\n",
    "        self.name=name\n",
    "        self.max_speed=max_speed\n",
    "        self.mileage=mileage\n",
    "     \n",
    "        \n",
    "class bus(vehicle):  #child class \n",
    "    def __init__(self,name, max_speed=int, mileage=int):\n",
    "        print(\"you are inside child class\")\n",
    "        vehicle.__init__(self,name,max_speed, mileage)\n",
    "        \n",
    "    def display(self):\n",
    "        print(f\"I have a {self.name} bus which max speed is {self.max_speed} and mileage is {self.mileage}\")\n",
    "        \n",
    "emp=bus(\"Mercedes\",200,12)\n",
    "emp.display() "
   ]
  },
  {
   "cell_type": "markdown",
   "metadata": {},
   "source": [
    "OOP Exercise 4:Define property that should have the same value for every class instance \n",
    "Define a class attribute”color” with a default value white. I.e., Every Vehicle should be white."
   ]
  },
  {
   "cell_type": "code",
   "execution_count": 26,
   "metadata": {},
   "outputs": [
    {
     "name": "stdout",
     "output_type": "stream",
     "text": [
      "your are inside the child class\n",
      "you are inside the parent class\n",
      "I have a Mercedes bus which have white colour and it have max speed of 159 with mileage of 14\n"
     ]
    }
   ],
   "source": [
    "class vehicle:\n",
    "    colour=\"white\"\n",
    "    def __init__(self,name,max_speed, mileage):\n",
    "        print(\"you are inside the parent class\")\n",
    "        self.name=name\n",
    "        self.max_speed = max_speed\n",
    "        self.mileage = mileage \n",
    "class bus(vehicle):\n",
    "    print(\"your are inside the child class\")\n",
    "    pass \n",
    "\n",
    "emp2=bus(\"Mercedes\",159,14)\n",
    "print(f\"I have a {emp2.name} bus which have {emp2.colour} colour and it have max speed of {emp2.max_speed} with mileage of {emp2.mileage}\")"
   ]
  },
  {
   "cell_type": "markdown",
   "metadata": {},
   "source": [
    "OOP Exercise 5: Class Inheritance \n",
    "Given: \n",
    "Create a Bus child class that inherits from the Vehicle class. The default fare charge of any vehicle is seating capacity * 100. If Vehicle is Bus instance, we need to add an extra 10% on full fare as a maintenance charge. So total fare for bus instance will become the final amount = total fare + 10% of the total fare. \n",
    "Note: The bus seating capacity is 50. so the final fare amount should be 5500. You need to override the fare() method of a Vehicle class in Bus class. \n",
    "Use the following code for your parent Vehicle class. We need to access the parent\n",
    "class from inside a method of a child class. \n"
   ]
  },
  {
   "cell_type": "code",
   "execution_count": 1,
   "metadata": {},
   "outputs": [
    {
     "name": "stdout",
     "output_type": "stream",
     "text": [
      "Total Bus fare will be : 5500.0\n"
     ]
    }
   ],
   "source": [
    "class Vehicle:\n",
    "    def __init__(self, name, mileage, capacity):\n",
    "        self.name = name\n",
    "        self.mileage = mileage\n",
    "        self.capacity = capacity\n",
    "\n",
    "    def fare(self):\n",
    "        return self.capacity * 100\n",
    "\n",
    "class Bus(Vehicle):\n",
    "    \n",
    "    def fare(self):\n",
    "        fare_bus_main = self.capacity * 100 \n",
    "        final_total_fare = (fare_bus_main + (0.1 *fare_bus_main))\n",
    "        return final_total_fare\n",
    "\n",
    "Bus_seating = Bus(\"School Volvo\", 12, capacity=50)\n",
    "print(\"Total Bus fare will be :\", Bus_seating.fare())"
   ]
  },
  {
   "cell_type": "markdown",
   "metadata": {},
   "source": [
    "OOP Exercise 6: Determine which class a given Bus object belongs to (Check type of an object) \n"
   ]
  },
  {
   "cell_type": "code",
   "execution_count": 3,
   "metadata": {},
   "outputs": [
    {
     "name": "stdout",
     "output_type": "stream",
     "text": [
      "<class '__main__.Bus'>\n"
     ]
    }
   ],
   "source": [
    "class Vehicle:\n",
    "    def __init__(self, name, mileage, capacity):\n",
    "        self.name = name\n",
    "        self.mileage = mileage\n",
    "        self.capacity = capacity\n",
    "\n",
    "class Bus(Vehicle):\n",
    "    pass\n",
    "\n",
    "School_bus = Bus(\"Mercedes\",159,14)\n",
    "print(type(School_bus))"
   ]
  }
 ],
 "metadata": {
  "kernelspec": {
   "display_name": "Python 3.10.6 64-bit",
   "language": "python",
   "name": "python3"
  },
  "language_info": {
   "codemirror_mode": {
    "name": "ipython",
    "version": 3
   },
   "file_extension": ".py",
   "mimetype": "text/x-python",
   "name": "python",
   "nbconvert_exporter": "python",
   "pygments_lexer": "ipython3",
   "version": "3.10.6"
  },
  "orig_nbformat": 4,
  "vscode": {
   "interpreter": {
    "hash": "a912f55fab05c87cb1cd04c2481425fcfa639c2a43819b922954b685e4a5e63c"
   }
  }
 },
 "nbformat": 4,
 "nbformat_minor": 2
}
