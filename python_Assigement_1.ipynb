{
 "cells": [
  {
   "cell_type": "markdown",
   "metadata": {},
   "source": [
    "# VARIABLE QUESTION"
   ]
  },
  {
   "cell_type": "markdown",
   "metadata": {},
   "source": [
    "#### Q1:Declare different variables for different types of data’s"
   ]
  },
  {
   "cell_type": "code",
   "execution_count": 6,
   "metadata": {},
   "outputs": [],
   "source": [
    "a_1 = 71                                                #this is an integer datatype\n",
    "a_2= 81.5                                               #this is a floating datatype\n",
    "a_3= 8j                                                 #this is a complex number\n",
    "a_4 = \"insideAIML\"                                      #this is a string datatype \n",
    "a_5= True                                               #this is a bool datatype \n",
    "a_6list = [  3, 9.1, \"Mango\", \"Banana\", True ]          #built in list datatype\n",
    "a7_tuple = ( 67, \"Banana\", 9.5 )                        ##built in tuple datatype\n",
    "a8_set = { \"Apple\", True,67j ,\"Mango\" }                 #built in set datatype\n",
    "a9_dict1 = {                                            #built in dict datatype\n",
    "            \"A\" : \"Apple\",\n",
    "            \"M\" : \"Mahindra\",\n",
    "            \"H\" : \"HP\",\n",
    "            \"T\" : \"tata\",\n",
    "            \"L\" : \"Lenovo\"\n",
    "\n",
    "        } \n",
    "\n",
    "a_10=bool                                               #this is a none datatype"
   ]
  },
  {
   "attachments": {},
   "cell_type": "markdown",
   "metadata": {},
   "source": [
    "# Q2:By the help of format specifiers access the variables\n"
   ]
  },
  {
   "cell_type": "code",
   "execution_count": 9,
   "metadata": {},
   "outputs": [
    {
     "name": "stdout",
     "output_type": "stream",
     "text": [
      "we access valuse with the help of format specifier is:45\n"
     ]
    }
   ],
   "source": [
    "var_1= 45 \n",
    "print(f\"we access valuse with the help of format specifier is:{var_1}\")"
   ]
  },
  {
   "cell_type": "markdown",
   "metadata": {},
   "source": [
    "#### Q3:How to take input from the user without directly assigning values to the variable"
   ]
  },
  {
   "cell_type": "code",
   "execution_count": 10,
   "metadata": {},
   "outputs": [
    {
     "name": "stdout",
     "output_type": "stream",
     "text": [
      "your input taken is :insideAIML\n"
     ]
    }
   ],
   "source": [
    "var_2 = input(\"enter the input \")\n",
    "print(f\"your input taken is :{var_2}\")"
   ]
  },
  {
   "cell_type": "markdown",
   "metadata": {},
   "source": [
    "#### Q4:what is the alternate of Anaconda Jupyter if your machine has low computational power  \n",
    "ANS:If your machine has low computatonal power then, best alternative are  google coolab ,pycharm,pyhon,jupiter"
   ]
  },
  {
   "cell_type": "markdown",
   "metadata": {},
   "source": [
    "#### Q5:In python is it necessary to declare what type of variable it is? if no? why? \n",
    "ANS: NO,because in pyhton you do not need  to declare variable before using it cause,every variable in  python is object (python is object orinted lang)  "
   ]
  },
  {
   "cell_type": "markdown",
   "metadata": {},
   "source": [
    "#### Q6:Declare a variable and store an integer value in it and in the second statement increment\n",
    "that value\n",
    "by 10\n"
   ]
  },
  {
   "cell_type": "code",
   "execution_count": 11,
   "metadata": {},
   "outputs": [
    {
     "name": "stdout",
     "output_type": "stream",
     "text": [
      "20\n"
     ]
    }
   ],
   "source": [
    "a = 10 \n",
    "a+=10\n",
    "print(a)"
   ]
  },
  {
   "cell_type": "markdown",
   "metadata": {},
   "source": [
    "#### Q7:follow the pseudo code write the correct output\n",
    "#### Num = 10\n",
    "#### Num + 10\n",
    "#### Num #Write down the appropriate output which will come here \n",
    "\n",
    "### The output which will come is:--> 10"
   ]
  },
  {
   "cell_type": "markdown",
   "metadata": {},
   "source": [
    "#### Q8:Declear three variables and store three different types of data \n",
    "(name(string type),id(integer type),cgpa(float type)) \n",
    "and print a statement \n",
    "“Hello my name is <particular_name> and \n",
    "my id is<particular_id> and\n",
    "my cgpa is <particular_cgpa>”\n",
    " access the values using Format Specifiers"
   ]
  },
  {
   "cell_type": "code",
   "execution_count": 24,
   "metadata": {},
   "outputs": [
    {
     "name": "stdout",
     "output_type": "stream",
     "text": [
      "hello,my Name is: Akash \n",
      " my Id is: 363767\n",
      " my Cgpa is: 8.3 \n"
     ]
    }
   ],
   "source": [
    "name= \"Akash\"\n",
    "Id= 363767\n",
    "Cgpa= 8.3\n",
    "print(f\"hello,my Name is: {name} \\n my Id is: {Id}\\n my Cgpa is: {Cgpa} \")\n",
    "                  \n"
   ]
  },
  {
   "cell_type": "markdown",
   "metadata": {},
   "source": [
    "# List"
   ]
  },
  {
   "cell_type": "markdown",
   "metadata": {},
   "source": [
    "#### Q1: how to declare a list\n"
   ]
  },
  {
   "cell_type": "code",
   "execution_count": 26,
   "metadata": {},
   "outputs": [
    {
     "data": {
      "text/plain": [
       "list"
      ]
     },
     "execution_count": 26,
     "metadata": {},
     "output_type": "execute_result"
    }
   ],
   "source": [
    "list_1=[23,34.6,\"insideAIML\"]\n",
    "type(list_1)"
   ]
  },
  {
   "cell_type": "markdown",
   "metadata": {},
   "source": [
    "#### Q2:Declare a list of containing different fruit names"
   ]
  },
  {
   "cell_type": "code",
   "execution_count": null,
   "metadata": {},
   "outputs": [],
   "source": [
    "list_2 =[\"apple\",\"orange\",\"cherry\",\"papaya\",\"grape\",\"kiwi\"]"
   ]
  },
  {
   "cell_type": "markdown",
   "metadata": {},
   "source": [
    "#### Q3:Declare a list containing different data-types in it"
   ]
  },
  {
   "cell_type": "code",
   "execution_count": null,
   "metadata": {},
   "outputs": [],
   "source": [
    "list_3=[12,34.5,8j,True,\"football\"]"
   ]
  },
  {
   "cell_type": "markdown",
   "metadata": {},
   "source": [
    "#### Q4:write down the code to check a particular element in the list"
   ]
  },
  {
   "cell_type": "code",
   "execution_count": 27,
   "metadata": {},
   "outputs": [
    {
     "data": {
      "text/plain": [
       "True"
      ]
     },
     "execution_count": 27,
     "metadata": {},
     "output_type": "execute_result"
    }
   ],
   "source": [
    "list_2 =[\"apple\",\"orange\",\"cherry\",\"papaya\",\"grape\",\"kiwi\",\"banana\"]\n",
    "list_2.__contains__(\"orange\")"
   ]
  },
  {
   "cell_type": "code",
   "execution_count": 29,
   "metadata": {},
   "outputs": [
    {
     "data": {
      "text/plain": [
       "5"
      ]
     },
     "execution_count": 29,
     "metadata": {},
     "output_type": "execute_result"
    }
   ],
   "source": [
    "list_2 =[\"apple\",\"orange\",\"cherry\",\"papaya\",\"grape\",\"kiwi\",\"banana\"]\n",
    "list_2.index(\"kiwi\")"
   ]
  },
  {
   "cell_type": "markdown",
   "metadata": {},
   "source": [
    "#### Q5:create a list of 5 elements and print the middle element which is in the list"
   ]
  },
  {
   "cell_type": "code",
   "execution_count": 30,
   "metadata": {},
   "outputs": [
    {
     "name": "stdout",
     "output_type": "stream",
     "text": [
      "cherry\n"
     ]
    }
   ],
   "source": [
    "list_3 =[\"apple\",\"orange\",\"cherry\",\"papaya\",\"grape\"]\n",
    "print(list_3[2])"
   ]
  },
  {
   "cell_type": "markdown",
   "metadata": {},
   "source": [
    "#### Q6:A list containing 10 elements slice it from index 3 to 4\n"
   ]
  },
  {
   "cell_type": "code",
   "execution_count": 32,
   "metadata": {},
   "outputs": [
    {
     "name": "stdout",
     "output_type": "stream",
     "text": [
      "10\n",
      "['papaya']\n"
     ]
    }
   ],
   "source": [
    "list_4 =[\"apple\",\"orange\",\"cherry\",\"papaya\",\"grape\",\"kiwi\",\"banana\",\"tata\",\"honda\",\"tesla\"]\n",
    "print(len(list_4))\n",
    "print(list_4[3:4])"
   ]
  },
  {
   "cell_type": "markdown",
   "metadata": {},
   "source": [
    "#### Q7:Declare a list and add a new element into the list using the append function"
   ]
  },
  {
   "cell_type": "code",
   "execution_count": 36,
   "metadata": {},
   "outputs": [
    {
     "name": "stdout",
     "output_type": "stream",
     "text": [
      "['mahindra', 'BMW', 'audi', 'tata', 'suzuki']\n"
     ]
    }
   ],
   "source": [
    "list_5= [\"mahindra\",\"BMW\",\"audi\",\"tata\"]\n",
    "list_5.append(\"suzuki\")\n",
    "print(list_5)"
   ]
  },
  {
   "cell_type": "markdown",
   "metadata": {},
   "source": [
    "#### Q8:Declear a list store multiple elements and access the elements using negative indexing"
   ]
  },
  {
   "cell_type": "code",
   "execution_count": 38,
   "metadata": {},
   "outputs": [
    {
     "data": {
      "text/plain": [
       "'tata'"
      ]
     },
     "execution_count": 38,
     "metadata": {},
     "output_type": "execute_result"
    }
   ],
   "source": [
    "list_6 =['mahindra', 'BMW', 'audi', 'tata', 'suzuki']\n",
    "list_6[-2]\n"
   ]
  },
  {
   "cell_type": "markdown",
   "metadata": {},
   "source": [
    "# Tuple"
   ]
  },
  {
   "cell_type": "markdown",
   "metadata": {},
   "source": [
    "#### Q1: how tuples are different from the list [theory type question]\n"
   ]
  },
  {
   "cell_type": "markdown",
   "metadata": {},
   "source": [
    "##### Ans:the major differnce between tuple and list is \n",
    "##### 1.In case of list ,they are mutable(we can manipulate the value of list )\n",
    "##### 2. In case of tupple, they are immutable (we cannot manupulate the value of tupple )"
   ]
  },
  {
   "cell_type": "markdown",
   "metadata": {},
   "source": [
    "#### Q2: Write a Python program to create a tuple."
   ]
  },
  {
   "cell_type": "code",
   "execution_count": 40,
   "metadata": {},
   "outputs": [
    {
     "name": "stdout",
     "output_type": "stream",
     "text": [
      "<class 'tuple'>\n"
     ]
    }
   ],
   "source": [
    "tup_1=(\"tata\",\"mahindra\",\"hyndai\",\"suzuki\",\"toyota\")\n",
    "print(type(tup_1))"
   ]
  },
  {
   "cell_type": "markdown",
   "metadata": {},
   "source": [
    "#### Q3:Write a Python program to create a tuple with different data types"
   ]
  },
  {
   "cell_type": "code",
   "execution_count": 43,
   "metadata": {},
   "outputs": [],
   "source": [
    "tup_2=(12,34.5,8j,True,\"football\")\n"
   ]
  },
  {
   "cell_type": "markdown",
   "metadata": {},
   "source": [
    "#### Q4:Write a Python program to create a tuple with numbers and print one item"
   ]
  },
  {
   "cell_type": "code",
   "execution_count": 45,
   "metadata": {},
   "outputs": [
    {
     "name": "stdout",
     "output_type": "stream",
     "text": [
      "56\n"
     ]
    }
   ],
   "source": [
    "tup_3=(12,23,45,56,67.8,78)\n",
    "print(tup_3[3])"
   ]
  },
  {
   "cell_type": "markdown",
   "metadata": {},
   "source": [
    "#### Q5:Write a Python program to add an item in a tuple\n"
   ]
  },
  {
   "cell_type": "code",
   "execution_count": null,
   "metadata": {},
   "outputs": [],
   "source": [
    "tup_4=(12,34,\"orange\",\"mahindra\")\n",
    "\n",
    "print(f\"Tuple before manipulation -> {tup_4} and type -> {type(tup_4)}\")\n",
    "\n",
    "tup_4 = list( tup_4 ) #converting the tuple to list\n",
    "\n",
    "print(f\"Type of tup_4 in between the process -> {type(tup_4)}\")\n",
    "tup_4[0] = \"Tata\"  \n",
    "\n",
    "tup_4 = tuple(tup_4) #converting back the list to tuple\n",
    "\n",
    "print(f\"Tuple after manipulation -> {tup_4} and type -> {type(tup_4)}\")"
   ]
  },
  {
   "cell_type": "markdown",
   "metadata": {},
   "source": [
    "#### Q6:Write a Python program to get the 4th element and 4th element from the last of a tuple"
   ]
  },
  {
   "cell_type": "code",
   "execution_count": 52,
   "metadata": {},
   "outputs": [
    {
     "name": "stdout",
     "output_type": "stream",
     "text": [
      "4th element from start is: kiwi\n",
      "4th element from last is: mahindra\n"
     ]
    }
   ],
   "source": [
    "tuple_5=(12,34,45.6,\"orange\",\"kiwi\",\"apple\",\"mahindra\",\"tata\",\"suzuki\",67j) \n",
    "a=tuple_5[4]\n",
    "print(f\"4th element from start is: {a}\")\n",
    "b=(tuple_5[-4])\n",
    "print(f\"4th element from last is: {b}\")"
   ]
  },
  {
   "cell_type": "markdown",
   "metadata": {},
   "source": [
    "#### Q7:Write a Python program to check whether an element exists within a tuple."
   ]
  },
  {
   "cell_type": "code",
   "execution_count": 56,
   "metadata": {},
   "outputs": [
    {
     "name": "stdout",
     "output_type": "stream",
     "text": [
      "True\n"
     ]
    }
   ],
   "source": [
    "tuple_6=(12,34,45.6,\"orange\",\"kiwi\",\"apple\",\"mahindra\",\"tata\",\"suzuki\")\n",
    "print(tuple_6.__contains__(\"kiwi\"))"
   ]
  },
  {
   "cell_type": "markdown",
   "metadata": {},
   "source": [
    "#### Q8:Write a Python program to remove an item from a tuple\n"
   ]
  },
  {
   "cell_type": "code",
   "execution_count": null,
   "metadata": {},
   "outputs": [],
   "source": [
    "tuple_7=(12,34,45.6,\"orange\",\"kiwi\",\"apple\",\"mahindra\",\"tata\",\"suzuki\")\n",
    "print(f\"before removing tuple item is : {tuple_7}\")\n",
    "tuple_7=list(tuple_7)\n",
    "tuple_7.remove(\"kiwi\")                 #we removed kiwi by converting tuple to list \n",
    "tuple_7=tuple(tuple_7)\n",
    "print(\"---------------------------------------------------------------------------------------\")\n",
    "print(f\"after removing item tuple is :{tuple_7}\")\n"
   ]
  },
  {
   "cell_type": "markdown",
   "metadata": {},
   "source": [
    "#### Q9:Write a Python program to slice a tuple"
   ]
  },
  {
   "cell_type": "code",
   "execution_count": 71,
   "metadata": {},
   "outputs": [
    {
     "name": "stdout",
     "output_type": "stream",
     "text": [
      "('orange', 'apple', 'tata')\n"
     ]
    }
   ],
   "source": [
    "tuple_8=(\"orange\",\"kiwi\",\"apple\",\"mahindra\",\"tata\",\"suzuki\")\n",
    "print(tuple_8[0::2])"
   ]
  },
  {
   "cell_type": "markdown",
   "metadata": {},
   "source": [
    "#### Q10:Write a Python program to find the length of a tuple"
   ]
  },
  {
   "cell_type": "code",
   "execution_count": 73,
   "metadata": {},
   "outputs": [
    {
     "data": {
      "text/plain": [
       "9"
      ]
     },
     "execution_count": 73,
     "metadata": {},
     "output_type": "execute_result"
    }
   ],
   "source": [
    "tuple_7=(12,34,45.6,\"orange\",\"kiwi\",\"apple\",\"mahindra\",\"tata\",\"suzuki\")\n",
    "len(tuple_7)"
   ]
  },
  {
   "cell_type": "markdown",
   "metadata": {},
   "source": [
    "#### Q11:Write a Python program to print a tuple with string formatting.\n",
    "Sample tuple : (100, 200, 300)"
   ]
  },
  {
   "cell_type": "code",
   "execution_count": 4,
   "metadata": {},
   "outputs": [
    {
     "name": "stdout",
     "output_type": "stream",
     "text": [
      "tuple with string formatting (100, 200, 300)\n"
     ]
    }
   ],
   "source": [
    "tuple_8 = (100, 200, 300)\n",
    "print('tuple with string formatting {0}'.format(tuple_8))"
   ]
  }
 ],
 "metadata": {
  "kernelspec": {
   "display_name": "Python 3.10.6 64-bit",
   "language": "python",
   "name": "python3"
  },
  "language_info": {
   "codemirror_mode": {
    "name": "ipython",
    "version": 3
   },
   "file_extension": ".py",
   "mimetype": "text/x-python",
   "name": "python",
   "nbconvert_exporter": "python",
   "pygments_lexer": "ipython3",
   "version": "3.10.6"
  },
  "orig_nbformat": 4,
  "vscode": {
   "interpreter": {
    "hash": "a912f55fab05c87cb1cd04c2481425fcfa639c2a43819b922954b685e4a5e63c"
   }
  }
 },
 "nbformat": 4,
 "nbformat_minor": 2
}
